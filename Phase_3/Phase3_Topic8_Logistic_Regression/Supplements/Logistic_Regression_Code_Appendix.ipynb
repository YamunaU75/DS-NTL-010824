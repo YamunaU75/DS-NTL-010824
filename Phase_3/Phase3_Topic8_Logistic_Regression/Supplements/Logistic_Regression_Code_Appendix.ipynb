{
 "cells": [
  {
   "cell_type": "markdown",
   "id": "ce1b38b8",
   "metadata": {},
   "source": [
    "# Logistic Regression Code Appendix\n",
    "\n",
    "Resources: https://scikit-learn.org/stable/modules/generated/sklearn.linear_model.LogisticRegression.html\n",
    "\n",
    "Python Code:\n",
    "\n",
    "``` Python\n",
    "# Import dependency\n",
    "from sklearn.linear_model import LogisticRegression\n",
    "\n",
    "# Create the logistic regression object\n",
    "log = LogisticRegression()\n",
    "\n",
    "# Train the logistic regression model\n",
    "clf = log.fit(X, y)\n",
    "\n",
    "# Predict the target class based on p > 0.5 criteria\n",
    "clf.predict(X)\n",
    "\n",
    "# Predict the probability with the training data set\n",
    "clf.predict_proba(X)\n",
    "\n",
    "# Calculate the model fit\n",
    "clf.score(X, y)\n",
    "```"
   ]
  },
  {
   "cell_type": "code",
   "execution_count": 1,
   "id": "fcf99089",
   "metadata": {},
   "outputs": [],
   "source": [
    "import pandas as pd\n",
    "import numpy as numpy\n",
    "from sklearn.linear_model import LogisticRegression"
   ]
  },
  {
   "cell_type": "code",
   "execution_count": 2,
   "id": "5b8776d9",
   "metadata": {},
   "outputs": [
    {
     "data": {
      "text/html": [
       "<div>\n",
       "<style scoped>\n",
       "    .dataframe tbody tr th:only-of-type {\n",
       "        vertical-align: middle;\n",
       "    }\n",
       "\n",
       "    .dataframe tbody tr th {\n",
       "        vertical-align: top;\n",
       "    }\n",
       "\n",
       "    .dataframe thead th {\n",
       "        text-align: right;\n",
       "    }\n",
       "</style>\n",
       "<table border=\"1\" class=\"dataframe\">\n",
       "  <thead>\n",
       "    <tr style=\"text-align: right;\">\n",
       "      <th></th>\n",
       "      <th>Rating</th>\n",
       "      <th>CostPerSlice</th>\n",
       "      <th>HeatSource</th>\n",
       "      <th>BrickOven</th>\n",
       "      <th>Neighborhood</th>\n",
       "    </tr>\n",
       "  </thead>\n",
       "  <tbody>\n",
       "    <tr>\n",
       "      <th>0</th>\n",
       "      <td>0.03</td>\n",
       "      <td>1.75</td>\n",
       "      <td>Gas</td>\n",
       "      <td>False</td>\n",
       "      <td>LittleItaly</td>\n",
       "    </tr>\n",
       "    <tr>\n",
       "      <th>1</th>\n",
       "      <td>4.89</td>\n",
       "      <td>2.75</td>\n",
       "      <td>Coal</td>\n",
       "      <td>True</td>\n",
       "      <td>SoHo</td>\n",
       "    </tr>\n",
       "    <tr>\n",
       "      <th>2</th>\n",
       "      <td>4.73</td>\n",
       "      <td>4.00</td>\n",
       "      <td>Wood</td>\n",
       "      <td>True</td>\n",
       "      <td>LittleItaly</td>\n",
       "    </tr>\n",
       "    <tr>\n",
       "      <th>3</th>\n",
       "      <td>0.13</td>\n",
       "      <td>1.75</td>\n",
       "      <td>Gas</td>\n",
       "      <td>False</td>\n",
       "      <td>LittleItaly</td>\n",
       "    </tr>\n",
       "    <tr>\n",
       "      <th>4</th>\n",
       "      <td>2.45</td>\n",
       "      <td>2.25</td>\n",
       "      <td>Wood</td>\n",
       "      <td>True</td>\n",
       "      <td>Chinatown</td>\n",
       "    </tr>\n",
       "  </tbody>\n",
       "</table>\n",
       "</div>"
      ],
      "text/plain": [
       "   Rating  CostPerSlice HeatSource BrickOven Neighborhood\n",
       "0    0.03          1.75        Gas     False  LittleItaly\n",
       "1    4.89          2.75       Coal      True         SoHo\n",
       "2    4.73          4.00       Wood      True  LittleItaly\n",
       "3    0.13          1.75        Gas     False  LittleItaly\n",
       "4    2.45          2.25       Wood      True    Chinatown"
      ]
     },
     "execution_count": 2,
     "metadata": {},
     "output_type": "execute_result"
    }
   ],
   "source": [
    "# Loading the fake pizza dataset from the web\n",
    "pizza = pd.read_csv('https://jaredlander.com/data/Fake%20Pizza%20Data.csv')\n",
    "pizza.head()"
   ]
  },
  {
   "cell_type": "code",
   "execution_count": 3,
   "id": "0a2b71a5",
   "metadata": {},
   "outputs": [],
   "source": [
    "from sklearn.preprocessing import LabelEncoder"
   ]
  },
  {
   "cell_type": "code",
   "execution_count": 4,
   "id": "78bc8ad1",
   "metadata": {},
   "outputs": [],
   "source": [
    "enc = LabelEncoder()\n",
    "pizza[\"BrickOven\"] = enc.fit_transform(pizza[\"BrickOven\"])"
   ]
  },
  {
   "cell_type": "code",
   "execution_count": 5,
   "id": "13d5a1d8",
   "metadata": {},
   "outputs": [
    {
     "data": {
      "text/html": [
       "<div>\n",
       "<style scoped>\n",
       "    .dataframe tbody tr th:only-of-type {\n",
       "        vertical-align: middle;\n",
       "    }\n",
       "\n",
       "    .dataframe tbody tr th {\n",
       "        vertical-align: top;\n",
       "    }\n",
       "\n",
       "    .dataframe thead th {\n",
       "        text-align: right;\n",
       "    }\n",
       "</style>\n",
       "<table border=\"1\" class=\"dataframe\">\n",
       "  <thead>\n",
       "    <tr style=\"text-align: right;\">\n",
       "      <th></th>\n",
       "      <th>Rating</th>\n",
       "      <th>CostPerSlice</th>\n",
       "      <th>HeatSource</th>\n",
       "      <th>BrickOven</th>\n",
       "      <th>Neighborhood</th>\n",
       "    </tr>\n",
       "  </thead>\n",
       "  <tbody>\n",
       "    <tr>\n",
       "      <th>0</th>\n",
       "      <td>0.03</td>\n",
       "      <td>1.75</td>\n",
       "      <td>Gas</td>\n",
       "      <td>0</td>\n",
       "      <td>LittleItaly</td>\n",
       "    </tr>\n",
       "    <tr>\n",
       "      <th>1</th>\n",
       "      <td>4.89</td>\n",
       "      <td>2.75</td>\n",
       "      <td>Coal</td>\n",
       "      <td>1</td>\n",
       "      <td>SoHo</td>\n",
       "    </tr>\n",
       "    <tr>\n",
       "      <th>2</th>\n",
       "      <td>4.73</td>\n",
       "      <td>4.00</td>\n",
       "      <td>Wood</td>\n",
       "      <td>1</td>\n",
       "      <td>LittleItaly</td>\n",
       "    </tr>\n",
       "    <tr>\n",
       "      <th>3</th>\n",
       "      <td>0.13</td>\n",
       "      <td>1.75</td>\n",
       "      <td>Gas</td>\n",
       "      <td>0</td>\n",
       "      <td>LittleItaly</td>\n",
       "    </tr>\n",
       "    <tr>\n",
       "      <th>4</th>\n",
       "      <td>2.45</td>\n",
       "      <td>2.25</td>\n",
       "      <td>Wood</td>\n",
       "      <td>1</td>\n",
       "      <td>Chinatown</td>\n",
       "    </tr>\n",
       "  </tbody>\n",
       "</table>\n",
       "</div>"
      ],
      "text/plain": [
       "   Rating  CostPerSlice HeatSource  BrickOven Neighborhood\n",
       "0    0.03          1.75        Gas          0  LittleItaly\n",
       "1    4.89          2.75       Coal          1         SoHo\n",
       "2    4.73          4.00       Wood          1  LittleItaly\n",
       "3    0.13          1.75        Gas          0  LittleItaly\n",
       "4    2.45          2.25       Wood          1    Chinatown"
      ]
     },
     "execution_count": 5,
     "metadata": {},
     "output_type": "execute_result"
    }
   ],
   "source": [
    "pizza.head()"
   ]
  },
  {
   "cell_type": "code",
   "execution_count": 6,
   "id": "f1c0460b",
   "metadata": {},
   "outputs": [],
   "source": [
    "pizza.dropna(inplace = True)"
   ]
  },
  {
   "cell_type": "code",
   "execution_count": 7,
   "id": "0ab3a037",
   "metadata": {},
   "outputs": [],
   "source": [
    "# Prepare data for model\n",
    "y = pizza['BrickOven']\n",
    "X = pizza[['Rating']]"
   ]
  },
  {
   "cell_type": "code",
   "execution_count": 17,
   "id": "a5776d7d",
   "metadata": {},
   "outputs": [
    {
     "data": {
      "text/plain": [
       "(200, 1)"
      ]
     },
     "execution_count": 17,
     "metadata": {},
     "output_type": "execute_result"
    }
   ],
   "source": [
    "X.shape\n"
   ]
  },
  {
   "cell_type": "code",
   "execution_count": 9,
   "id": "73e00292",
   "metadata": {},
   "outputs": [],
   "source": [
    "from sklearn.model_selection import train_test_split, cross_validate"
   ]
  },
  {
   "cell_type": "code",
   "execution_count": 10,
   "id": "a7647c60",
   "metadata": {},
   "outputs": [],
   "source": [
    "X_train, X_test, y_train, y_test = train_test_split(X, y, test_size=0.2, random_state=27)"
   ]
  },
  {
   "cell_type": "code",
   "execution_count": 11,
   "id": "7c0edb5c",
   "metadata": {},
   "outputs": [],
   "source": [
    "from sklearn.preprocessing import StandardScaler\n",
    "\n",
    "ss= StandardScaler()\n",
    "X_train = ss.fit_transform(X_train)\n",
    "X_test = ss.transform(X_test)"
   ]
  },
  {
   "cell_type": "code",
   "execution_count": 12,
   "id": "acfa71a3",
   "metadata": {},
   "outputs": [],
   "source": [
    "from sklearn.linear_model import LogisticRegression"
   ]
  },
  {
   "cell_type": "code",
   "execution_count": 13,
   "id": "664e03b7",
   "metadata": {},
   "outputs": [
    {
     "data": {
      "text/html": [
       "<style>#sk-container-id-1 {color: black;background-color: white;}#sk-container-id-1 pre{padding: 0;}#sk-container-id-1 div.sk-toggleable {background-color: white;}#sk-container-id-1 label.sk-toggleable__label {cursor: pointer;display: block;width: 100%;margin-bottom: 0;padding: 0.3em;box-sizing: border-box;text-align: center;}#sk-container-id-1 label.sk-toggleable__label-arrow:before {content: \"▸\";float: left;margin-right: 0.25em;color: #696969;}#sk-container-id-1 label.sk-toggleable__label-arrow:hover:before {color: black;}#sk-container-id-1 div.sk-estimator:hover label.sk-toggleable__label-arrow:before {color: black;}#sk-container-id-1 div.sk-toggleable__content {max-height: 0;max-width: 0;overflow: hidden;text-align: left;background-color: #f0f8ff;}#sk-container-id-1 div.sk-toggleable__content pre {margin: 0.2em;color: black;border-radius: 0.25em;background-color: #f0f8ff;}#sk-container-id-1 input.sk-toggleable__control:checked~div.sk-toggleable__content {max-height: 200px;max-width: 100%;overflow: auto;}#sk-container-id-1 input.sk-toggleable__control:checked~label.sk-toggleable__label-arrow:before {content: \"▾\";}#sk-container-id-1 div.sk-estimator input.sk-toggleable__control:checked~label.sk-toggleable__label {background-color: #d4ebff;}#sk-container-id-1 div.sk-label input.sk-toggleable__control:checked~label.sk-toggleable__label {background-color: #d4ebff;}#sk-container-id-1 input.sk-hidden--visually {border: 0;clip: rect(1px 1px 1px 1px);clip: rect(1px, 1px, 1px, 1px);height: 1px;margin: -1px;overflow: hidden;padding: 0;position: absolute;width: 1px;}#sk-container-id-1 div.sk-estimator {font-family: monospace;background-color: #f0f8ff;border: 1px dotted black;border-radius: 0.25em;box-sizing: border-box;margin-bottom: 0.5em;}#sk-container-id-1 div.sk-estimator:hover {background-color: #d4ebff;}#sk-container-id-1 div.sk-parallel-item::after {content: \"\";width: 100%;border-bottom: 1px solid gray;flex-grow: 1;}#sk-container-id-1 div.sk-label:hover label.sk-toggleable__label {background-color: #d4ebff;}#sk-container-id-1 div.sk-serial::before {content: \"\";position: absolute;border-left: 1px solid gray;box-sizing: border-box;top: 0;bottom: 0;left: 50%;z-index: 0;}#sk-container-id-1 div.sk-serial {display: flex;flex-direction: column;align-items: center;background-color: white;padding-right: 0.2em;padding-left: 0.2em;position: relative;}#sk-container-id-1 div.sk-item {position: relative;z-index: 1;}#sk-container-id-1 div.sk-parallel {display: flex;align-items: stretch;justify-content: center;background-color: white;position: relative;}#sk-container-id-1 div.sk-item::before, #sk-container-id-1 div.sk-parallel-item::before {content: \"\";position: absolute;border-left: 1px solid gray;box-sizing: border-box;top: 0;bottom: 0;left: 50%;z-index: -1;}#sk-container-id-1 div.sk-parallel-item {display: flex;flex-direction: column;z-index: 1;position: relative;background-color: white;}#sk-container-id-1 div.sk-parallel-item:first-child::after {align-self: flex-end;width: 50%;}#sk-container-id-1 div.sk-parallel-item:last-child::after {align-self: flex-start;width: 50%;}#sk-container-id-1 div.sk-parallel-item:only-child::after {width: 0;}#sk-container-id-1 div.sk-dashed-wrapped {border: 1px dashed gray;margin: 0 0.4em 0.5em 0.4em;box-sizing: border-box;padding-bottom: 0.4em;background-color: white;}#sk-container-id-1 div.sk-label label {font-family: monospace;font-weight: bold;display: inline-block;line-height: 1.2em;}#sk-container-id-1 div.sk-label-container {text-align: center;}#sk-container-id-1 div.sk-container {/* jupyter's `normalize.less` sets `[hidden] { display: none; }` but bootstrap.min.css set `[hidden] { display: none !important; }` so we also need the `!important` here to be able to override the default hidden behavior on the sphinx rendered scikit-learn.org. See: https://github.com/scikit-learn/scikit-learn/issues/21755 */display: inline-block !important;position: relative;}#sk-container-id-1 div.sk-text-repr-fallback {display: none;}</style><div id=\"sk-container-id-1\" class=\"sk-top-container\"><div class=\"sk-text-repr-fallback\"><pre>LogisticRegression(penalty=&#x27;l1&#x27;, solver=&#x27;liblinear&#x27;)</pre><b>In a Jupyter environment, please rerun this cell to show the HTML representation or trust the notebook. <br />On GitHub, the HTML representation is unable to render, please try loading this page with nbviewer.org.</b></div><div class=\"sk-container\" hidden><div class=\"sk-item\"><div class=\"sk-estimator sk-toggleable\"><input class=\"sk-toggleable__control sk-hidden--visually\" id=\"sk-estimator-id-1\" type=\"checkbox\" checked><label for=\"sk-estimator-id-1\" class=\"sk-toggleable__label sk-toggleable__label-arrow\">LogisticRegression</label><div class=\"sk-toggleable__content\"><pre>LogisticRegression(penalty=&#x27;l1&#x27;, solver=&#x27;liblinear&#x27;)</pre></div></div></div></div></div>"
      ],
      "text/plain": [
       "LogisticRegression(penalty='l1', solver='liblinear')"
      ]
     },
     "execution_count": 13,
     "metadata": {},
     "output_type": "execute_result"
    }
   ],
   "source": [
    "log = LogisticRegression(penalty ='l1', solver = 'liblinear')\n",
    "log.fit(X_train, y_train)\n"
   ]
  },
  {
   "cell_type": "code",
   "execution_count": 14,
   "id": "f50193d6",
   "metadata": {},
   "outputs": [
    {
     "data": {
      "text/plain": [
       "array([0, 0, 0, 0, 0, 0, 0, 0, 0, 0, 0, 0, 0, 0, 0, 0, 0, 0, 0, 0, 0, 0,\n",
       "       0, 0, 0, 0, 0, 0, 0, 0, 0, 0, 0, 0, 0, 0, 0, 0, 0, 0, 0, 0, 0, 0,\n",
       "       0, 0, 0, 0, 0, 0, 0, 0, 0, 0, 0, 0, 0, 0, 0, 0, 0, 0, 0, 0, 0, 0,\n",
       "       0, 0, 0, 0, 0, 0, 0, 0, 0, 0, 0, 0, 0, 0, 0, 0, 0, 0, 0, 0, 0, 0,\n",
       "       0, 0, 0, 0, 0, 0, 0, 0, 0, 0, 0, 0, 0, 0, 0, 0, 0, 0, 0, 0, 0, 0,\n",
       "       0, 0, 0, 0, 0, 0, 0, 0, 0, 0, 0, 0, 0, 0, 0, 0, 0, 0, 0, 0, 0, 0,\n",
       "       0, 0, 0, 0, 0, 0, 0, 0, 0, 0, 0, 0, 0, 0, 0, 0, 0, 0, 0, 0, 0, 0,\n",
       "       0, 0, 0, 0, 0, 0])"
      ]
     },
     "execution_count": 14,
     "metadata": {},
     "output_type": "execute_result"
    }
   ],
   "source": [
    "# Predict the class of the target\n",
    "log.predict(X_train)"
   ]
  },
  {
   "cell_type": "code",
   "execution_count": 15,
   "id": "c2484f3a",
   "metadata": {},
   "outputs": [
    {
     "data": {
      "text/plain": [
       "array([[0.64109063, 0.35890937],\n",
       "       [0.6291411 , 0.3708589 ],\n",
       "       [0.63358177, 0.36641823],\n",
       "       [0.6269728 , 0.3730272 ],\n",
       "       [0.64203929, 0.35796071],\n",
       "       [0.67177803, 0.32822197],\n",
       "       [0.67709958, 0.32290042],\n",
       "       [0.66065576, 0.33934424],\n",
       "       [0.67064001, 0.32935999],\n",
       "       [0.63823803, 0.36176197],\n",
       "       [0.62419476, 0.37580524],\n",
       "       [0.62225737, 0.37774263],\n",
       "       [0.67721231, 0.32278769],\n",
       "       [0.62310547, 0.37689453],\n",
       "       [0.62395281, 0.37604719],\n",
       "       [0.632144  , 0.367856  ],\n",
       "       [0.67211904, 0.32788096],\n",
       "       [0.62225737, 0.37774263],\n",
       "       [0.67450104, 0.32549896],\n",
       "       [0.62649026, 0.37350974],\n",
       "       [0.62225737, 0.37774263],\n",
       "       [0.62286323, 0.37713677],\n",
       "       [0.63046362, 0.36953638],\n",
       "       [0.67325444, 0.32674556],\n",
       "       [0.62213615, 0.37786385],\n",
       "       [0.66434534, 0.33565466],\n",
       "       [0.63621151, 0.36378849],\n",
       "       [0.67302752, 0.32697248],\n",
       "       [0.67382138, 0.32617862],\n",
       "       [0.67461424, 0.32538576],\n",
       "       [0.65275069, 0.34724931],\n",
       "       [0.64286846, 0.35713154],\n",
       "       [0.6234687 , 0.3765313 ],\n",
       "       [0.62564521, 0.37435479],\n",
       "       [0.63382117, 0.36617883],\n",
       "       [0.67800087, 0.32199913],\n",
       "       [0.63178419, 0.36821581],\n",
       "       [0.62685219, 0.37314781],\n",
       "       [0.63716577, 0.36283423],\n",
       "       [0.67991172, 0.32008828],\n",
       "       [0.62310547, 0.37689453],\n",
       "       [0.63823803, 0.36176197],\n",
       "       [0.65926708, 0.34073292],\n",
       "       [0.63106412, 0.36893588],\n",
       "       [0.63310278, 0.36689722],\n",
       "       [0.62504113, 0.37495887],\n",
       "       [0.65052655, 0.34947345],\n",
       "       [0.62950198, 0.37049802],\n",
       "       [0.62334764, 0.37665236],\n",
       "       [0.67822598, 0.32177402],\n",
       "       [0.62395281, 0.37604719],\n",
       "       [0.66111803, 0.33888197],\n",
       "       [0.62938171, 0.37061829],\n",
       "       [0.65578346, 0.34421654],\n",
       "       [0.63310278, 0.36689722],\n",
       "       [0.6802483 , 0.3197517 ],\n",
       "       [0.62213615, 0.37786385],\n",
       "       [0.62781664, 0.37218336],\n",
       "       [0.67664844, 0.32335156],\n",
       "       [0.66457529, 0.33542471],\n",
       "       [0.62974249, 0.37025751],\n",
       "       [0.67878841, 0.32121159],\n",
       "       [0.67461424, 0.32538576],\n",
       "       [0.66835797, 0.33164203],\n",
       "       [0.64251321, 0.35748679],\n",
       "       [0.63859514, 0.36140486],\n",
       "       [0.6376425 , 0.3623575 ],\n",
       "       [0.62492027, 0.37507973],\n",
       "       [0.63788076, 0.36211924],\n",
       "       [0.62455759, 0.37544241],\n",
       "       [0.63310278, 0.36689722],\n",
       "       [0.62237857, 0.37762143],\n",
       "       [0.66411533, 0.33588467],\n",
       "       [0.67721231, 0.32278769],\n",
       "       [0.66767181, 0.33232819],\n",
       "       [0.62262093, 0.37737907],\n",
       "       [0.62237857, 0.37762143],\n",
       "       [0.65659782, 0.34340218],\n",
       "       [0.67086778, 0.32913222],\n",
       "       [0.62479939, 0.37520061],\n",
       "       [0.67979948, 0.32020052],\n",
       "       [0.63094406, 0.36905594],\n",
       "       [0.6238318 , 0.3761682 ],\n",
       "       [0.62213615, 0.37786385],\n",
       "       [0.62358975, 0.37641025],\n",
       "       [0.67608405, 0.32391595],\n",
       "       [0.64275006, 0.35724994],\n",
       "       [0.6785635 , 0.3214365 ],\n",
       "       [0.62262093, 0.37737907],\n",
       "       [0.62225737, 0.37774263],\n",
       "       [0.65181502, 0.34818498],\n",
       "       [0.67143684, 0.32856316],\n",
       "       [0.62310547, 0.37689453],\n",
       "       [0.62516198, 0.37483802],\n",
       "       [0.67007025, 0.32992975],\n",
       "       [0.66204167, 0.33795833],\n",
       "       [0.6234687 , 0.3765313 ],\n",
       "       [0.62225737, 0.37774263],\n",
       "       [0.64203929, 0.35796071],\n",
       "       [0.67867597, 0.32132403],\n",
       "       [0.62479939, 0.37520061],\n",
       "       [0.62286323, 0.37713677],\n",
       "       [0.62467849, 0.37532151],\n",
       "       [0.64570482, 0.35429518],\n",
       "       [0.62962224, 0.37037776],\n",
       "       [0.63046362, 0.36953638],\n",
       "       [0.62310547, 0.37689453],\n",
       "       [0.62298435, 0.37701565],\n",
       "       [0.62274209, 0.37725791],\n",
       "       [0.62371079, 0.37628921],\n",
       "       [0.67098163, 0.32901837],\n",
       "       [0.67709958, 0.32290042],\n",
       "       [0.64700141, 0.35299859],\n",
       "       [0.67155059, 0.32844941],\n",
       "       [0.67923798, 0.32076202],\n",
       "       [0.67890084, 0.32109916],\n",
       "       [0.65787567, 0.34212433],\n",
       "       [0.67041217, 0.32958783],\n",
       "       [0.62262093, 0.37737907],\n",
       "       [0.62274209, 0.37725791],\n",
       "       [0.62274209, 0.37725791],\n",
       "       [0.63406051, 0.36593949],\n",
       "       [0.66560905, 0.33439095],\n",
       "       [0.62225737, 0.37774263],\n",
       "       [0.6421578 , 0.3578422 ],\n",
       "       [0.62528281, 0.37471719],\n",
       "       [0.67923798, 0.32076202],\n",
       "       [0.67200539, 0.32799461],\n",
       "       [0.6234687 , 0.3765313 ],\n",
       "       [0.67574517, 0.32425483],\n",
       "       [0.65717894, 0.34282106],\n",
       "       [0.62262093, 0.37737907],\n",
       "       [0.62298435, 0.37701565],\n",
       "       [0.62443666, 0.37556334],\n",
       "       [0.67912562, 0.32087438],\n",
       "       [0.62310547, 0.37689453],\n",
       "       [0.62479939, 0.37520061],\n",
       "       [0.64853097, 0.35146903],\n",
       "       [0.66400029, 0.33599971],\n",
       "       [0.62564521, 0.37435479],\n",
       "       [0.62793713, 0.37206287],\n",
       "       [0.62479939, 0.37520061],\n",
       "       [0.63561455, 0.36438545],\n",
       "       [0.65251688, 0.34748312],\n",
       "       [0.62431572, 0.37568428],\n",
       "       [0.62395281, 0.37604719],\n",
       "       [0.64192077, 0.35807923],\n",
       "       [0.67642274, 0.32357726],\n",
       "       [0.65368518, 0.34631482],\n",
       "       [0.62540362, 0.37459638],\n",
       "       [0.67427457, 0.32572543],\n",
       "       [0.64900099, 0.35099901],\n",
       "       [0.63645018, 0.36354982],\n",
       "       [0.62225737, 0.37774263],\n",
       "       [0.62479939, 0.37520061],\n",
       "       [0.65787567, 0.34212433],\n",
       "       [0.62516198, 0.37483802],\n",
       "       [0.62262093, 0.37737907],\n",
       "       [0.65868766, 0.34131234],\n",
       "       [0.62528281, 0.37471719]])"
      ]
     },
     "execution_count": 15,
     "metadata": {},
     "output_type": "execute_result"
    }
   ],
   "source": [
    "# Predict the probability of the target\n",
    "log.predict_proba(X_train)"
   ]
  },
  {
   "cell_type": "code",
   "execution_count": null,
   "id": "43d3ba0e-fb55-4286-90de-3cb757d3e9b4",
   "metadata": {},
   "outputs": [],
   "source": []
  }
 ],
 "metadata": {
  "hide_input": false,
  "kernelspec": {
   "display_name": "learn-env",
   "language": "python",
   "name": "learn-env"
  },
  "language_info": {
   "codemirror_mode": {
    "name": "ipython",
    "version": 3
   },
   "file_extension": ".py",
   "mimetype": "text/x-python",
   "name": "python",
   "nbconvert_exporter": "python",
   "pygments_lexer": "ipython3",
   "version": "3.11.5"
  },
  "latex_envs": {
   "LaTeX_envs_menu_present": true,
   "autoclose": false,
   "autocomplete": true,
   "bibliofile": "biblio.bib",
   "cite_by": "apalike",
   "current_citInitial": 1,
   "eqLabelWithNumbers": true,
   "eqNumInitial": 1,
   "hotkeys": {
    "equation": "Ctrl-E",
    "itemize": "Ctrl-I"
   },
   "labels_anchors": false,
   "latex_user_defs": false,
   "report_style_numbering": false,
   "user_envs_cfg": false
  },
  "nbTranslate": {
   "displayLangs": [
    "*"
   ],
   "hotkey": "alt-t",
   "langInMainMenu": true,
   "sourceLang": "en",
   "targetLang": "fr",
   "useGoogleTranslate": true
  },
  "toc": {
   "base_numbering": 1,
   "nav_menu": {},
   "number_sections": true,
   "sideBar": true,
   "skip_h1_title": false,
   "title_cell": "Table of Contents",
   "title_sidebar": "Contents",
   "toc_cell": false,
   "toc_position": {},
   "toc_section_display": true,
   "toc_window_display": false
  }
 },
 "nbformat": 4,
 "nbformat_minor": 5
}
